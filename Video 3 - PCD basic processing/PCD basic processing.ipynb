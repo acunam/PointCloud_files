{
 "cells": [
  {
   "cell_type": "code",
   "execution_count": 1,
   "id": "756ac952",
   "metadata": {},
   "outputs": [],
   "source": [
    "import numpy as np\n",
    "import matplotlib.pyplot as plt\n",
    "from mpl_toolkits import mplot3d"
   ]
  },
  {
   "cell_type": "code",
   "execution_count": 16,
   "id": "26f7e125",
   "metadata": {},
   "outputs": [
    {
     "name": "stdout",
     "output_type": "stream",
     "text": [
      "(1000000, 9)\n",
      "[[ 2.75421047 -4.75981236 -6.44403553 ...  0.636208   -0.710298\n",
      "  -0.301192  ]\n",
      " [ 1.07206249 -0.74167979 -5.10408783 ... -0.871766   -0.200491\n",
      "  -0.447021  ]\n",
      " [-2.84094572 -1.76128495 -6.89372492 ... -0.480478   -0.802926\n",
      "  -0.352776  ]\n",
      " ...\n",
      " [-3.56255245  2.83534837 -7.39112473 ...  0.084037    0.102457\n",
      "   0.991181  ]\n",
      " [-4.51143932  2.48451352 -4.11802864 ...  0.712082   -0.140008\n",
      "   0.687995  ]\n",
      " [-5.51107264  4.16210508 -7.64815331 ...  0.242046    0.422452\n",
      "   0.873469  ]]\n"
     ]
    }
   ],
   "source": [
    "file_data_path = './data/sample_w_normals.xyz'\n",
    "point_cloud= np.loadtxt(file_data_path, skiprows=1, max_rows=1000000)\n",
    "print(point_cloud.shape)\n",
    "print(point_cloud)"
   ]
  },
  {
   "cell_type": "code",
   "execution_count": 10,
   "id": "ca74c888",
   "metadata": {},
   "outputs": [
    {
     "name": "stdout",
     "output_type": "stream",
     "text": [
      "[ 2.75421047 -4.75981236 -6.44403553  8.         12.         13.\n",
      "  0.636208   -0.710298   -0.301192  ]\n"
     ]
    }
   ],
   "source": [
    "#print first line\n",
    "print(point_cloud[0])\n"
   ]
  },
  {
   "cell_type": "code",
   "execution_count": 11,
   "id": "bf3b008f",
   "metadata": {},
   "outputs": [
    {
     "name": "stdout",
     "output_type": "stream",
     "text": [
      "8.0\n"
     ]
    }
   ],
   "source": [
    "#print fourth element of first row\n",
    "print(point_cloud[0][3])"
   ]
  },
  {
   "cell_type": "code",
   "execution_count": 20,
   "id": "e9c25336",
   "metadata": {},
   "outputs": [
    {
     "name": "stdout",
     "output_type": "stream",
     "text": [
      "[ 8. 14. 14. ... 76. 64. 83.]\n",
      "(1000000,)\n"
     ]
    }
   ],
   "source": [
    "#print rows only from fourth column\n",
    "print(point_cloud[:, 3])\n",
    "print(z_elements.shape)"
   ]
  },
  {
   "cell_type": "code",
   "execution_count": 19,
   "id": "5354f556",
   "metadata": {},
   "outputs": [
    {
     "name": "stdout",
     "output_type": "stream",
     "text": [
      "[-6.44403553 -5.10408783 -6.89372492 ... -7.39112473 -4.11802864\n",
      " -7.64815331]\n",
      "(1000000,)\n"
     ]
    }
   ],
   "source": [
    "#create a variable with the elements in the Z column\n",
    "z_elements = point_cloud[:, 2]\n",
    "print(z_elements)\n",
    "print(z_elements.shape)"
   ]
  },
  {
   "cell_type": "code",
   "execution_count": 22,
   "id": "fc6f2bee",
   "metadata": {},
   "outputs": [
    {
     "name": "stdout",
     "output_type": "stream",
     "text": [
      "[[ 2.75421047 -4.75981236 -6.44403553]\n",
      " [ 1.07206249 -0.74167979 -5.10408783]\n",
      " [-2.84094572 -1.76128495 -6.89372492]\n",
      " ...\n",
      " [-3.56255245  2.83534837 -7.39112473]\n",
      " [-4.51143932  2.48451352 -4.11802864]\n",
      " [-5.51107264  4.16210508 -7.64815331]]\n",
      "(1000000, 3)\n"
     ]
    }
   ],
   "source": [
    "#print the xyz elements\n",
    "xyz = point_cloud[:, 0:3]\n",
    "print(xyz)\n",
    "print(xyz.shape)"
   ]
  },
  {
   "cell_type": "code",
   "execution_count": 23,
   "id": "6dc0d7dd",
   "metadata": {},
   "outputs": [
    {
     "name": "stdout",
     "output_type": "stream",
     "text": [
      "[[  8.  12.  13.]\n",
      " [ 14.  12.  17.]\n",
      " [ 14.  19.  25.]\n",
      " ...\n",
      " [ 76.  78.  73.]\n",
      " [ 64.  69.  75.]\n",
      " [ 83.  90. 100.]]\n",
      "(1000000, 3)\n"
     ]
    }
   ],
   "source": [
    "#print the rgb elements\n",
    "rgb = point_cloud[:,3:6]\n",
    "print(rgb)\n",
    "print(rgb.shape)"
   ]
  },
  {
   "cell_type": "code",
   "execution_count": 24,
   "id": "baff427d",
   "metadata": {},
   "outputs": [
    {
     "name": "stdout",
     "output_type": "stream",
     "text": [
      "-2.6964476006126765\n"
     ]
    }
   ],
   "source": [
    "#print the average of the x, y, and z columns together (output is one value)\n",
    "print(np.average(xyz))"
   ]
  },
  {
   "cell_type": "code",
   "execution_count": 25,
   "id": "42b6f4b8",
   "metadata": {},
   "outputs": [
    {
     "name": "stdout",
     "output_type": "stream",
     "text": [
      "[-1.05425097 -1.12017269 -5.91491914]\n"
     ]
    }
   ],
   "source": [
    "#print the average of the x, y, and z columns separately (output is three values)\n",
    "print(np.average(xyz, axis=0))"
   ]
  },
  {
   "cell_type": "code",
   "execution_count": 26,
   "id": "31f5f196",
   "metadata": {},
   "outputs": [
    {
     "name": "stdout",
     "output_type": "stream",
     "text": [
      "[-2.81654581 -1.59123504 -3.8319852  ... -2.7061096  -2.04831815\n",
      " -2.99904029]\n"
     ]
    }
   ],
   "source": [
    "#print an average per row (one per data point)\n",
    "print(np.average(xyz, axis=1))"
   ]
  },
  {
   "cell_type": "code",
   "execution_count": 27,
   "id": "06111adb",
   "metadata": {},
   "outputs": [
    {
     "name": "stdout",
     "output_type": "stream",
     "text": [
      "-5.914919135975055\n"
     ]
    }
   ],
   "source": [
    "#print the average value of the Z column\n",
    "mean_z = np.average(xyz, axis=0)[2]\n",
    "print(mean_z)"
   ]
  },
  {
   "cell_type": "code",
   "execution_count": 28,
   "id": "7cd5c408",
   "metadata": {},
   "outputs": [
    {
     "data": {
      "image/png": "[encoded data removed]",
      "text/plain": [
       "<Figure size 432x288 with 1 Axes>"
      ]
     },
     "metadata": {
      "needs_background": "light"
     },
     "output_type": "display_data"
    }
   ],
   "source": [
    "spatial_query=point_cloud[abs(point_cloud[:,2]-mean_z)<1]\n",
    "xyz=spatial_query[:,:3]\n",
    "rgb=spatial_query[:,3:6]\n",
    "ax = plt.axes(projection='3d')\n",
    "ax.scatter(xyz[:,0], xyz[:,1], xyz[:,2], c = rgb/255, s=0.01)\n",
    "plt.show()"
   ]
  },
  {
   "cell_type": "code",
   "execution_count": 32,
   "id": "bda82264",
   "metadata": {},
   "outputs": [],
   "source": [
    "np.savetxt(\"slice.xyz\", spatial_query, delimiter=\" \", fmt=\"%s\")"
   ]
  },
  {
   "cell_type": "code",
   "execution_count": 33,
   "id": "9453dbfd",
   "metadata": {},
   "outputs": [
    {
     "name": "stdout",
     "output_type": "stream",
     "text": [
      "(343309, 9)\n"
     ]
    }
   ],
   "source": [
    "print(spatial_query.shape)"
   ]
  }
 ],
 "metadata": {
  "kernelspec": {
   "display_name": "Python [conda env:talleruco] *",
   "language": "python",
   "name": "conda-env-talleruco-py"
  },
  "language_info": {
   "codemirror_mode": {
    "name": "ipython",
    "version": 3
   },
   "file_extension": ".py",
   "mimetype": "text/x-python",
   "name": "python",
   "nbconvert_exporter": "python",
   "pygments_lexer": "ipython3",
   "version": "3.6.13"
  }
 },
 "nbformat": 4,
 "nbformat_minor": 5
}
