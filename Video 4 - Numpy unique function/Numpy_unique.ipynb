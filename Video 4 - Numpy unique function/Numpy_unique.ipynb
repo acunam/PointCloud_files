{
 "cells": [
  {
   "cell_type": "markdown",
   "id": "e48d1266",
   "metadata": {},
   "source": [
    "# Practicing with the Numpy unique() function"
   ]
  },
  {
   "cell_type": "code",
   "execution_count": 11,
   "id": "1c13cbf5",
   "metadata": {},
   "outputs": [],
   "source": [
    "import numpy as np"
   ]
  },
  {
   "cell_type": "code",
   "execution_count": 12,
   "id": "6ba5d6dd",
   "metadata": {},
   "outputs": [],
   "source": [
    "gar = np.array(['b','b','a','a','a','c','c','c'])   #original list"
   ]
  },
  {
   "cell_type": "code",
   "execution_count": 13,
   "id": "9449ad8b",
   "metadata": {},
   "outputs": [
    {
     "data": {
      "text/plain": [
       "array(['a', 'b', 'c'], dtype='<U1')"
      ]
     },
     "execution_count": 13,
     "metadata": {},
     "output_type": "execute_result"
    }
   ],
   "source": [
    "np.unique(gar)"
   ]
  },
  {
   "cell_type": "code",
   "execution_count": 14,
   "id": "3e220916",
   "metadata": {},
   "outputs": [
    {
     "name": "stdout",
     "output_type": "stream",
     "text": [
      "['a' 'b' 'c']\n"
     ]
    }
   ],
   "source": [
    "unique_elements = np.unique(gar)\n",
    "print(unique_elements) #list with unique elements sorted"
   ]
  },
  {
   "cell_type": "code",
   "execution_count": 15,
   "id": "314dd9dd",
   "metadata": {},
   "outputs": [
    {
     "data": {
      "text/plain": [
       "(array(['a', 'b', 'c'], dtype='<U1'), array([2, 0, 5], dtype=int64))"
      ]
     },
     "execution_count": 15,
     "metadata": {},
     "output_type": "execute_result"
    }
   ],
   "source": [
    "np.unique(gar, return_index=True)"
   ]
  },
  {
   "cell_type": "code",
   "execution_count": 16,
   "id": "4d3e5395",
   "metadata": {},
   "outputs": [
    {
     "name": "stdout",
     "output_type": "stream",
     "text": [
      "['a' 'b' 'c']\n",
      "[2 0 5]\n"
     ]
    }
   ],
   "source": [
    "unique_elements, first_positions = np.unique(gar, return_index=True)\n",
    "print(unique_elements) #list with unique elements\n",
    "print(first_positions) #list with first position (index) on original list of each unique element"
   ]
  },
  {
   "cell_type": "code",
   "execution_count": 17,
   "id": "a08d7fad",
   "metadata": {},
   "outputs": [
    {
     "data": {
      "text/plain": [
       "(array(['a', 'b', 'c'], dtype='<U1'),\n",
       " array([2, 0, 5], dtype=int64),\n",
       " array([1, 1, 0, 0, 0, 2, 2, 2], dtype=int64))"
      ]
     },
     "execution_count": 17,
     "metadata": {},
     "output_type": "execute_result"
    }
   ],
   "source": [
    "np.unique(gar, return_index=True, return_inverse=True)"
   ]
  },
  {
   "cell_type": "code",
   "execution_count": 18,
   "id": "68971ec6",
   "metadata": {},
   "outputs": [
    {
     "name": "stdout",
     "output_type": "stream",
     "text": [
      "['a' 'b' 'c']\n",
      "[2 0 5]\n",
      "[1 1 0 0 0 2 2 2]\n"
     ]
    }
   ],
   "source": [
    "unique_elements, first_positions, index_elements = np.unique(gar, return_index=True, return_inverse=True)\n",
    "print(unique_elements) #list with unique elements\n",
    "print(first_positions) #list with first position (index) on original list of each unique element\n",
    "print(index_elements) #list with corresponding index on the unique_element list of each element on original list"
   ]
  },
  {
   "cell_type": "code",
   "execution_count": 19,
   "id": "ebb44de2",
   "metadata": {},
   "outputs": [
    {
     "data": {
      "text/plain": [
       "(array(['a', 'b', 'c'], dtype='<U1'),\n",
       " array([2, 0, 5], dtype=int64),\n",
       " array([1, 1, 0, 0, 0, 2, 2, 2], dtype=int64),\n",
       " array([3, 2, 3], dtype=int64))"
      ]
     },
     "execution_count": 19,
     "metadata": {},
     "output_type": "execute_result"
    }
   ],
   "source": [
    "np.unique(gar, return_index=True, return_inverse=True, return_counts=True)"
   ]
  },
  {
   "cell_type": "code",
   "execution_count": 20,
   "id": "47c6413d",
   "metadata": {},
   "outputs": [
    {
     "name": "stdout",
     "output_type": "stream",
     "text": [
      "['a' 'b' 'c']\n",
      "[2 0 5]\n",
      "[1 1 0 0 0 2 2 2]\n",
      "[3 2 3]\n"
     ]
    }
   ],
   "source": [
    "unique_elements, first_positions, index_elements, nb_elements = np.unique(gar, return_index=True, return_inverse=True, return_counts=True)\n",
    "print(unique_elements) #list with unique elements\n",
    "print(first_positions) #list with first position (index) on original list of each unique element\n",
    "print(index_elements) #list with corresponding index on the unique_element list of each element on original list\n",
    "print(nb_elements) #list with the number of unique elements"
   ]
  },
  {
   "cell_type": "code",
   "execution_count": 21,
   "id": "2a4feb36",
   "metadata": {},
   "outputs": [
    {
     "data": {
      "text/plain": [
       "array([0, 2, 5], dtype=int64)"
      ]
     },
     "execution_count": 21,
     "metadata": {},
     "output_type": "execute_result"
    }
   ],
   "source": [
    "np.sort(first_positions)"
   ]
  },
  {
   "cell_type": "code",
   "execution_count": 22,
   "id": "fdde5f94",
   "metadata": {},
   "outputs": [
    {
     "data": {
      "text/plain": [
       "array([1, 0, 2], dtype=int64)"
      ]
     },
     "execution_count": 22,
     "metadata": {},
     "output_type": "execute_result"
    }
   ],
   "source": [
    "np.argsort(first_positions)"
   ]
  },
  {
   "cell_type": "code",
   "execution_count": 23,
   "id": "30496a2c",
   "metadata": {},
   "outputs": [
    {
     "data": {
      "text/plain": [
       "array(['b', 'a', 'c'], dtype='<U1')"
      ]
     },
     "execution_count": 23,
     "metadata": {},
     "output_type": "execute_result"
    }
   ],
   "source": [
    "unique_elements[np.argsort(first_positions)]"
   ]
  },
  {
   "cell_type": "code",
   "execution_count": 24,
   "id": "d2b9e1f5",
   "metadata": {},
   "outputs": [
    {
     "data": {
      "text/plain": [
       "array([0, 0, 0, 1, 1, 2, 2, 2], dtype=int64)"
      ]
     },
     "execution_count": 24,
     "metadata": {},
     "output_type": "execute_result"
    }
   ],
   "source": [
    "np.sort(index_elements)"
   ]
  },
  {
   "cell_type": "code",
   "execution_count": 25,
   "id": "02bbfff3",
   "metadata": {},
   "outputs": [
    {
     "data": {
      "text/plain": [
       "array([2, 3, 4, 0, 1, 5, 6, 7], dtype=int64)"
      ]
     },
     "execution_count": 25,
     "metadata": {},
     "output_type": "execute_result"
    }
   ],
   "source": [
    "np.argsort(index_elements)"
   ]
  },
  {
   "cell_type": "code",
   "execution_count": 26,
   "id": "f6570894",
   "metadata": {},
   "outputs": [
    {
     "data": {
      "text/plain": [
       "array(['a', 'a', 'a', 'b', 'b', 'c', 'c', 'c'], dtype='<U1')"
      ]
     },
     "execution_count": 26,
     "metadata": {},
     "output_type": "execute_result"
    }
   ],
   "source": [
    "gar[np.argsort(index_elements)]"
   ]
  },
  {
   "cell_type": "code",
   "execution_count": 27,
   "id": "04c30a27",
   "metadata": {},
   "outputs": [
    {
     "data": {
      "text/plain": [
       "array(['a', 'a', 'a', 'b', 'b', 'c', 'c', 'c'], dtype='<U1')"
      ]
     },
     "execution_count": 27,
     "metadata": {},
     "output_type": "execute_result"
    }
   ],
   "source": [
    "np.sort(gar)"
   ]
  }
 ],
 "metadata": {
  "kernelspec": {
   "display_name": "Python [conda env:talleruco] *",
   "language": "python",
   "name": "conda-env-talleruco-py"
  },
  "language_info": {
   "codemirror_mode": {
    "name": "ipython",
    "version": 3
   },
   "file_extension": ".py",
   "mimetype": "text/x-python",
   "name": "python",
   "nbconvert_exporter": "python",
   "pygments_lexer": "ipython3",
   "version": "3.6.13"
  }
 },
 "nbformat": 4,
 "nbformat_minor": 5
}
