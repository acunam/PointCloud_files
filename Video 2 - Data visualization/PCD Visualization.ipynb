{
 "cells": [
  {
   "cell_type": "markdown",
   "id": "f153227d",
   "metadata": {},
   "source": [
    "# Point cloud visualization"
   ]
  },
  {
   "cell_type": "markdown",
   "id": "eebf2cdc",
   "metadata": {},
   "source": [
    "## Introduction\n",
    "In this tutorial, we present easy ways to visualize several different point cloud file formats that are commonly used to store point cloud-type information using two very popular python packages ([Open3D](http://www.open3d.org/) & [pptk - Point Processing Toolkit](https://github.com/heremaps/pptk))."
   ]
  },
  {
   "cell_type": "markdown",
   "id": "4d35c1de",
   "metadata": {},
   "source": [
    "These are the most popular formats for point cloud data and the packages we'll use to open the files.\n",
    "  - ply --> (Open3D) \n",
    "  - pcd --> (Open3D)\n",
    "  - npz, npy --> (Open3D)\n",
    "  - hdf5 --> (pptk)\n",
    "  - binary --> (pptk)\n",
    "  - las, laz --> (pptk)\n",
    "  - txt --> (pptk, Open3D)"
   ]
  },
  {
   "cell_type": "markdown",
   "id": "4a5a18fb",
   "metadata": {},
   "source": [
    "## Import the libraries"
   ]
  },
  {
   "cell_type": "code",
   "execution_count": 33,
   "id": "58af91ca",
   "metadata": {},
   "outputs": [],
   "source": [
    "# Data read & write\n",
    "import numpy as np\n",
    "import laspy\n",
    "import h5py\n",
    "# Visualization\n",
    "import open3d as o3d\n",
    "import pptk # works with Python 3.6\n",
    "import lazrs"
   ]
  },
  {
   "cell_type": "markdown",
   "id": "2c5199b0",
   "metadata": {},
   "source": [
    "### Format: ply | Package: Open3D"
   ]
  },
  {
   "cell_type": "code",
   "execution_count": 34,
   "id": "17f357e4",
   "metadata": {},
   "outputs": [
    {
     "name": "stdout",
     "output_type": "stream",
     "text": [
      "PLY file loaded\n"
     ]
    }
   ],
   "source": [
    "# Load ply file\n",
    "pc_ply = o3d.io.read_point_cloud(\"./data/fragment.ply\")\n",
    "print('PLY file loaded')"
   ]
  },
  {
   "cell_type": "code",
   "execution_count": 8,
   "id": "ba672fa3",
   "metadata": {},
   "outputs": [
    {
     "name": "stdout",
     "output_type": "stream",
     "text": [
      "['HalfEdgeTriangleMesh', 'Image', 'LineSet', 'PointCloud', 'RGBDImage', 'TetraMesh', 'TriangleMesh', 'Type', 'Unspecified', 'VoxelGrid', '__add__', '__class__', '__copy__', '__deepcopy__', '__delattr__', '__dir__', '__doc__', '__eq__', '__format__', '__ge__', '__getattribute__', '__gt__', '__hash__', '__iadd__', '__init__', '__init_subclass__', '__le__', '__lt__', '__module__', '__ne__', '__new__', '__reduce__', '__reduce_ex__', '__repr__', '__setattr__', '__sizeof__', '__str__', '__subclasshook__', 'clear', 'cluster_dbscan', 'colors', 'compute_convex_hull', 'compute_mahalanobis_distance', 'compute_mean_and_covariance', 'compute_nearest_neighbor_distance', 'compute_point_cloud_distance', 'covariances', 'create_from_depth_image', 'create_from_rgbd_image', 'crop', 'dimension', 'estimate_covariances', 'estimate_normals', 'estimate_point_covariances', 'get_axis_aligned_bounding_box', 'get_center', 'get_geometry_type', 'get_max_bound', 'get_min_bound', 'get_oriented_bounding_box', 'get_rotation_matrix_from_axis_angle', 'get_rotation_matrix_from_quaternion', 'get_rotation_matrix_from_xyz', 'get_rotation_matrix_from_xzy', 'get_rotation_matrix_from_yxz', 'get_rotation_matrix_from_yzx', 'get_rotation_matrix_from_zxy', 'get_rotation_matrix_from_zyx', 'has_colors', 'has_covariances', 'has_normals', 'has_points', 'hidden_point_removal', 'is_empty', 'normalize_normals', 'normals', 'orient_normals_consistent_tangent_plane', 'orient_normals_to_align_with_direction', 'orient_normals_towards_camera_location', 'paint_uniform_color', 'points', 'random_down_sample', 'remove_non_finite_points', 'remove_radius_outlier', 'remove_statistical_outlier', 'rotate', 'scale', 'segment_plane', 'select_by_index', 'transform', 'translate', 'uniform_down_sample', 'voxel_down_sample', 'voxel_down_sample_and_trace']\n"
     ]
    }
   ],
   "source": [
    "# PLY file info\n",
    "print(dir(pc_ply))"
   ]
  },
  {
   "cell_type": "code",
   "execution_count": 9,
   "id": "ebfa7b0b",
   "metadata": {},
   "outputs": [
    {
     "name": "stdout",
     "output_type": "stream",
     "text": [
      "Shape of points (196133, 3)\n",
      "Shape of colors (196133, 3)\n"
     ]
    }
   ],
   "source": [
    "print('Shape of points', np.asarray(pc_ply.points).shape)\n",
    "print('Shape of colors', np.asarray(pc_ply.colors).shape)"
   ]
  },
  {
   "cell_type": "code",
   "execution_count": 10,
   "id": "c0dcc0a4",
   "metadata": {},
   "outputs": [],
   "source": [
    "# visualization\n",
    "o3d.visualization.draw_geometries([pc_ply])\n",
    "# Capture \n",
    "# o3d.visualization.Visualizer.capture_screen_image('screenshot.png')"
   ]
  },
  {
   "cell_type": "markdown",
   "id": "f6e3676b",
   "metadata": {},
   "source": [
    "### Format: pcd | Package: Open3D"
   ]
  },
  {
   "cell_type": "code",
   "execution_count": 11,
   "id": "cb4a2074",
   "metadata": {},
   "outputs": [
    {
     "name": "stdout",
     "output_type": "stream",
     "text": [
      "PointCloud with 1366408 points.\n",
      "Shape of points (1366408, 3)\n",
      "Shape of colors (0, 3)\n"
     ]
    }
   ],
   "source": [
    "# Load pcd file\n",
    "pc_pcd = o3d.io.read_point_cloud(\"./data/pcl_CSite1_orig-utm.pcd\")\n",
    "# Point Cloud info\n",
    "print(pc_pcd)\n",
    "print('Shape of points', np.asarray(pc_pcd.points).shape)\n",
    "print('Shape of colors', np.asarray(pc_pcd.colors).shape) # no color data"
   ]
  },
  {
   "cell_type": "code",
   "execution_count": 12,
   "id": "9bd0b306",
   "metadata": {},
   "outputs": [],
   "source": [
    "# visualization\n",
    "o3d.visualization.draw_geometries([pc_pcd])"
   ]
  },
  {
   "cell_type": "markdown",
   "id": "40883b49",
   "metadata": {},
   "source": [
    "### Format: numpy | Package: Open3D"
   ]
  },
  {
   "cell_type": "code",
   "execution_count": 13,
   "id": "dc1535ad",
   "metadata": {},
   "outputs": [
    {
     "name": "stdout",
     "output_type": "stream",
     "text": [
      "Shape of the Point Cloud: (8192, 3)\n"
     ]
    }
   ],
   "source": [
    "pc_np = np.load('./data/shapenet_04554684-fcc0bdba1a95be2546cde67a6a1ea328.npy')\n",
    "print('Shape of the Point Cloud:', pc_np.shape)\n",
    "# Create PointCloud class\n",
    "pc = o3d.geometry.PointCloud()\n",
    "pc.points = o3d.utility.Vector3dVector(pc_np)"
   ]
  },
  {
   "cell_type": "code",
   "execution_count": 14,
   "id": "830e9b02",
   "metadata": {},
   "outputs": [],
   "source": [
    "# visualization\n",
    "o3d.visualization.draw_geometries([pc])"
   ]
  },
  {
   "cell_type": "markdown",
   "id": "e61ea57d",
   "metadata": {},
   "source": [
    "### Format: las & laz | Package: PPTK"
   ]
  },
  {
   "cell_type": "code",
   "execution_count": 12,
   "id": "196d6fd6",
   "metadata": {},
   "outputs": [
    {
     "name": "stdout",
     "output_type": "stream",
     "text": [
      "<LasData(1.3, point fmt: <PointFormat(1, 0 bytes of extra dims)>, 10683 points, 0 vlrs)>\n"
     ]
    }
   ],
   "source": [
    "point_cloud = laspy.read('./data/vegetation_1_3.las')\n",
    "print(point_cloud)"
   ]
  },
  {
   "cell_type": "code",
   "execution_count": 27,
   "id": "760eab93",
   "metadata": {},
   "outputs": [
    {
     "data": {
      "text/plain": [
       "['X',\n",
       " 'Y',\n",
       " 'Z',\n",
       " 'intensity',\n",
       " 'return_number',\n",
       " 'number_of_returns',\n",
       " 'scan_direction_flag',\n",
       " 'edge_of_flight_line',\n",
       " 'classification',\n",
       " 'synthetic',\n",
       " 'key_point',\n",
       " 'withheld',\n",
       " 'scan_angle_rank',\n",
       " 'user_data',\n",
       " 'point_source_id',\n",
       " 'gps_time']"
      ]
     },
     "execution_count": 27,
     "metadata": {},
     "output_type": "execute_result"
    }
   ],
   "source": [
    "## lists column names in las file.\n",
    "point_format = point_cloud.point_format\n",
    "list(point_format.dimension_names)"
   ]
  },
  {
   "cell_type": "code",
   "execution_count": 28,
   "id": "9d281762",
   "metadata": {},
   "outputs": [
    {
     "name": "stdout",
     "output_type": "stream",
     "text": [
      "(10683, 3)\n"
     ]
    }
   ],
   "source": [
    "# preparation for visualization\n",
    "points = np.vstack((point_cloud.x, point_cloud.y, point_cloud.z)).transpose()\n",
    "print(points.shape)"
   ]
  },
  {
   "cell_type": "code",
   "execution_count": 40,
   "id": "3d468d27",
   "metadata": {},
   "outputs": [],
   "source": [
    "vis = pptk.viewer(points) # Start the interactive visualization"
   ]
  },
  {
   "cell_type": "code",
   "execution_count": 41,
   "id": "990bc247",
   "metadata": {},
   "outputs": [],
   "source": [
    "## (Optional)\n",
    "vis.attributes(point_cloud['intensity'], point_cloud['classification']) # Loads point attributes (intensity) to color the points\n",
    "# a few auxiliary property\n",
    "vis.set(point_size=0.01)\n",
    "# vis.set(bg_color=[0, 0, 0, 1])\n",
    "# vis.set(show_grid=False)\n",
    "# vis.set(show_axis=False)\n",
    "# set color map to gray\n",
    "# vis.color_map('spring') # Options: 'jet' (default), 'hsv', 'hot', 'cool', 'spring', 'summer', 'autumn', 'winter', 'gray'"
   ]
  },
  {
   "cell_type": "code",
   "execution_count": 42,
   "id": "abdf02e5",
   "metadata": {},
   "outputs": [],
   "source": [
    "# # takes a screenshot of current view\n",
    "vis.capture('screenshot_las.png')"
   ]
  },
  {
   "cell_type": "code",
   "execution_count": 21,
   "id": "0df11256",
   "metadata": {},
   "outputs": [
    {
     "name": "stdout",
     "output_type": "stream",
     "text": [
      "Shape of Point Cloud: (28185, 3)\n"
     ]
    }
   ],
   "source": [
    "## Load LAZ file\n",
    "pc_laz = laspy.read('./data/plane.laz')\n",
    "\n",
    "#pc_las = laspy.convert(pc_laz)\n",
    "\n",
    "# preparation for visualization\n",
    "points = np.vstack((pc_laz.x, pc_laz.y, pc_laz.z)).transpose()\n",
    "print('Shape of Point Cloud:', points.shape)"
   ]
  },
  {
   "cell_type": "code",
   "execution_count": 22,
   "id": "61808ba5",
   "metadata": {},
   "outputs": [],
   "source": [
    "vis = pptk.viewer(points) # Start the interactive visualization"
   ]
  },
  {
   "cell_type": "markdown",
   "id": "86154497",
   "metadata": {},
   "source": [
    "### Format: h5 | Package: PPTK"
   ]
  },
  {
   "cell_type": "code",
   "execution_count": 23,
   "id": "5cd20ba1",
   "metadata": {},
   "outputs": [],
   "source": [
    "pc_h5 = h5py.File('./data/Scanobjectnn_sample.h5', 'r')\n",
    "point_clouds = np.array(pc_h5['data'])\n",
    "labels = np.array(pc_h5['label'])"
   ]
  },
  {
   "cell_type": "code",
   "execution_count": 24,
   "id": "ab04b8a9",
   "metadata": {},
   "outputs": [
    {
     "name": "stdout",
     "output_type": "stream",
     "text": [
      "Size of Point Clouds: (2, 2048, 3)\n",
      "labels: [ 4 12]\n"
     ]
    }
   ],
   "source": [
    "print('Size of Point Clouds:', point_clouds.shape)\n",
    "print('labels:', labels)"
   ]
  },
  {
   "cell_type": "code",
   "execution_count": 25,
   "id": "788aa65d",
   "metadata": {},
   "outputs": [
    {
     "data": {
      "text/plain": [
       "<pptk.viewer.viewer.viewer at 0x220fd727588>"
      ]
     },
     "execution_count": 25,
     "metadata": {},
     "output_type": "execute_result"
    }
   ],
   "source": [
    "pptk.viewer(point_clouds[0,:,:])"
   ]
  },
  {
   "cell_type": "markdown",
   "id": "4ce05829",
   "metadata": {},
   "source": [
    "### Format: binary | Package: PPTK"
   ]
  },
  {
   "cell_type": "code",
   "execution_count": 26,
   "id": "9dc63d70",
   "metadata": {},
   "outputs": [
    {
     "name": "stdout",
     "output_type": "stream",
     "text": [
      "(19669, 4)\n"
     ]
    },
    {
     "data": {
      "text/plain": [
       "<pptk.viewer.viewer.viewer at 0x220fd844710>"
      ]
     },
     "execution_count": 26,
     "metadata": {},
     "output_type": "execute_result"
    }
   ],
   "source": [
    "pc_bin = np.fromfile('./data/kitti_007517.bin', '<f4')\n",
    "pc_bin = np.reshape(pc_bin, (-1, 4))\n",
    "print(pc_bin.shape)\n",
    "pptk.viewer(pc_bin[:, :3])"
   ]
  },
  {
   "cell_type": "markdown",
   "id": "3a673550",
   "metadata": {},
   "source": [
    "### Format: txt | Package: PPTK"
   ]
  },
  {
   "cell_type": "code",
   "execution_count": 27,
   "id": "60f9257f",
   "metadata": {},
   "outputs": [],
   "source": [
    "pc_txt = np.loadtxt('./data/modelnet40_airplane_0001.txt', delimiter=',')"
   ]
  },
  {
   "cell_type": "code",
   "execution_count": 28,
   "id": "d044d327",
   "metadata": {},
   "outputs": [
    {
     "name": "stdout",
     "output_type": "stream",
     "text": [
      "Shape of the point cloud: (10000, 6)\n"
     ]
    }
   ],
   "source": [
    "print('Shape of the point cloud:', pc_txt.shape)\n",
    "points = pc_txt[:,:3]\n",
    "colors = pc_txt[:,3:]\n",
    "vis = pptk.viewer(points, colors) # Start the interactive visualization"
   ]
  },
  {
   "cell_type": "markdown",
   "id": "18bd2197",
   "metadata": {},
   "source": [
    "### Format: txt | Package: Open3D"
   ]
  },
  {
   "cell_type": "code",
   "execution_count": 29,
   "id": "4984bff4",
   "metadata": {},
   "outputs": [],
   "source": [
    "pcd = o3d.geometry.PointCloud()\n",
    "pcd.points = o3d.utility.Vector3dVector(points)\n",
    "pcd.colors = o3d.utility.Vector3dVector(colors)"
   ]
  },
  {
   "cell_type": "code",
   "execution_count": 30,
   "id": "efbe25d0",
   "metadata": {},
   "outputs": [],
   "source": [
    "# visualization\n",
    "o3d.visualization.draw_geometries([pcd])"
   ]
  }
 ],
 "metadata": {
  "kernelspec": {
   "display_name": "Python [conda env:talleruco] *",
   "language": "python",
   "name": "conda-env-talleruco-py"
  },
  "language_info": {
   "codemirror_mode": {
    "name": "ipython",
    "version": 3
   },
   "file_extension": ".py",
   "mimetype": "text/x-python",
   "name": "python",
   "nbconvert_exporter": "python",
   "pygments_lexer": "ipython3",
   "version": "3.6.13"
  }
 },
 "nbformat": 4,
 "nbformat_minor": 5
}
